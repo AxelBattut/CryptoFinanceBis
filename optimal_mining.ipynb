{
 "cells": [
  {
   "cell_type": "code",
   "execution_count": 2,
   "id": "6900bc2b",
   "metadata": {},
   "outputs": [
    {
     "data": {
      "image/png": "[encoded data removed]",
      "text/plain": [
       "<Figure size 432x288 with 1 Axes>"
      ]
     },
     "metadata": {
      "needs_background": "light"
     },
     "output_type": "display_data"
    }
   ],
   "source": [
    "\n",
    "\n",
    "import matplotlib.pyplot as plt\n",
    "import numpy as np\n",
    "\n",
    "def Max(a,b):\n",
    "    if a > b:\n",
    "        return a\n",
    "    else:\n",
    "        return b\n",
    "\n",
    "def E(a,h,n,q,c):\n",
    "    if n == 0 :\n",
    "        if a>h:\n",
    "            return a - (a-h) *c\n",
    "        else:\n",
    "            return 0\n",
    "    else:\n",
    "\n",
    "\n",
    "        if a > h:\n",
    "            return max(h+1-c+E(a-h-1, 0, n, q, c), \n",
    "                    q*E(a+1,h, n-1, q, c)+(1-q)*(E(a, h+1, n-1, q, c)-c))\n",
    "        if a == (h+1):\n",
    "            return max(h+1-c, q*E(a+1,h, n-1, q, c)+(1-q)*(E(a, h+1, n-1, q, c)-c))\n",
    "        if a <= h:\n",
    "            return max(0, q*E(a+1,h, n-1, q, c)+(1-q)*(E(a, h+1, n-1, q, c)-c))\n",
    "\n",
    "    \n",
    "def simulation_curves():\n",
    "    abs = np.arange(0,0.6,0.1)\n",
    "    expectations = []\n",
    "\n",
    "\n",
    "    for q in range (0,6):\n",
    "        expectations.append(E(0,0,3,q/10,q/10))\n",
    "\n",
    "    plt.plot(abs, expectations) #create the plot\n",
    "    #plt.plot(abs, abs, label=\"honest mining\")\n",
    "    plt.xlabel('q')\n",
    "    plt.ylabel('expected gain')\n",
    "    plt.show()\n",
    "    \n",
    "simulation_curves()\n",
    "\n",
    "\n",
    "\n",
    "\n",
    "\n"
   ]
  }
 ],
 "metadata": {
  "kernelspec": {
   "display_name": "Python 3 (ipykernel)",
   "language": "python",
   "name": "python3"
  },
  "language_info": {
   "codemirror_mode": {
    "name": "ipython",
    "version": 3
   },
   "file_extension": ".py",
   "mimetype": "text/x-python",
   "name": "python",
   "nbconvert_exporter": "python",
   "pygments_lexer": "ipython3",
   "version": "3.9.12"
  }
 },
 "nbformat": 4,
 "nbformat_minor": 5
}
